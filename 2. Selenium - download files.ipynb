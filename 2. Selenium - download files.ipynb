{
 "cells": [
  {
   "cell_type": "code",
   "execution_count": 7,
   "metadata": {},
   "outputs": [],
   "source": [
    "import sys\n",
    "import os\n",
    "import shutil\n",
    "import zipfile\n",
    "import sys\n",
    "from selenium import webdriver\n",
    "from selenium.webdriver.chrome.options import Options\n",
    "import time\n",
    "\n",
    "sys.path.append('/workspace/')"
   ]
  },
  {
   "cell_type": "code",
   "execution_count": 12,
   "metadata": {},
   "outputs": [],
   "source": [
    "path_download = os.path.join('/workspace',\"data\", \"zip\")\n",
    "os.makedirs(path_download, exist_ok = True)\n",
    "\n",
    "path_unzip = os.path.join('/workspace',\"data\", \"unzip\")\n",
    "os.makedirs(path_unzip, exist_ok = True)"
   ]
  },
  {
   "cell_type": "code",
   "execution_count": 9,
   "metadata": {},
   "outputs": [],
   "source": [
    "zip_files = {\n",
    "    'oisddata.zip': 'https://www.bankofengland.co.uk/-/media/boe/files/statistics/yield-curves/oisddata.zip',\n",
    "    'latest-yield-curve-data.zip': 'https://www.bankofengland.co.uk/-/media/boe/files/statistics/yield-curves/latest-yield-curve-data.zip'\n",
    " }"
   ]
  },
  {
   "cell_type": "code",
   "execution_count": 14,
   "metadata": {},
   "outputs": [],
   "source": [
    "def download(download_path, files_to_download):\n",
    "    \n",
    "    # Remove and create empty folder before download\n",
    "    shutil.rmtree(download_path)\n",
    "    os.makedirs(path_download, exist_ok = True)\n",
    "\n",
    "    # Set path Selenium\n",
    "    WINDOW_SIZE = \"1280,720\"\n",
    "\n",
    "    # Options\n",
    "    chrome_options = Options()\n",
    "    chrome_options.add_argument(\"--window-size=%s\" % WINDOW_SIZE)\n",
    "\n",
    "    #chrome_options = webdriver.ChromeOptions()\n",
    "    prefs = {\"profile.default_content_setting_values.notifications\" : 2, \n",
    "            \"download.default_directory\" : download_path,\n",
    "            \"disable-popup-blocking\": \"true\"}\n",
    "    chrome_options.add_experimental_option(\"prefs\",prefs)\n",
    "    # Get the response and print title\n",
    "    driver = webdriver.Chrome(options=chrome_options)\n",
    "    for file in files_to_download.keys():\n",
    "        driver.get(files_to_download[file])\n",
    "    \n",
    "    # Check if file downloaded\n",
    "    start_time = time.time()\n",
    "    now = 0\n",
    "    time_out = 10\n",
    "    files = []\n",
    "    while (sorted(files) != sorted(list(files_to_download.keys()))) and (now < time_out):\n",
    "        files = os.listdir(download_path)\n",
    "        now = time.time() - start_time\n",
    "    \n",
    "    driver.close()\n",
    "\n",
    "    if now >= time_out:\n",
    "        raise Exception('Time Out Error!')\n",
    "    \n",
    "def unzip(download_path, unzip_path, files_to_download):\n",
    "    for file in files_to_download.keys():\n",
    "        with zipfile.ZipFile(os.path.join(download_path, file), 'r') as zip_ref:\n",
    "            zip_ref.extractall(os.path.join(unzip_path, file.split('.')[0]))"
   ]
  },
  {
   "cell_type": "code",
   "execution_count": 15,
   "metadata": {},
   "outputs": [],
   "source": [
    "download(path_download, zip_files)\n",
    "unzip(path_download, path_unzip, zip_files)"
   ]
  }
 ],
 "metadata": {
  "kernelspec": {
   "display_name": "Python 3",
   "language": "python",
   "name": "python3"
  },
  "language_info": {
   "codemirror_mode": {
    "name": "ipython",
    "version": 3
   },
   "file_extension": ".py",
   "mimetype": "text/x-python",
   "name": "python",
   "nbconvert_exporter": "python",
   "pygments_lexer": "ipython3",
   "version": "3.8.10"
  },
  "orig_nbformat": 4
 },
 "nbformat": 4,
 "nbformat_minor": 2
}
